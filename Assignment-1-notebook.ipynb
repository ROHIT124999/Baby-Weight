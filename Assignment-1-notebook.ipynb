{
 "cells": [
  {
   "cell_type": "markdown",
   "metadata": {},
   "source": [
    "# Programming Assignment 1\n",
    "* CSCI-5930 ML Fall 2023  (Be sure to discard which section you are not enrolled)\n",
    "* Author: Ashis Kumer Biswas (Replace my name with yours)"
   ]
  },
  {
   "cell_type": "markdown",
   "metadata": {},
   "source": [
    "### Let's load the given dataset"
   ]
  },
  {
   "cell_type": "code",
   "execution_count": 124,
   "metadata": {},
   "outputs": [],
   "source": [
    "import pandas as pd\n",
    "# First load the dataset into pandas dataframe\n",
    "full_dataset = pd.read_csv('dataset/baby-weights-dataset.csv',delimiter=',')\n",
    "judge_dataset = pd.read_csv('dataset/judge-without-labels.csv',delimiter=',')"
   ]
  },
  {
   "cell_type": "markdown",
   "metadata": {},
   "source": [
    "\n",
    "\n",
    "## Task 1 : (10 points)\n",
    "* Summarize the `baby-weights-dataset.csv` dataset in the following way:\n",
    "```\n",
    "total number of rows = a\n",
    "total number of columns = b\n",
    "number of columns having non-numeric values = c\n",
    "columns with missing values = [ (d1, e1)  (d2, e2), ... ]\n",
    "Father's education summary =  f +/- g \n",
    "```\n",
    "  \n",
    "where, \n",
    "* `a` is total number of rows in the dataset.\n",
    "* `b` is total number of columns in the dataset.\n",
    "* `c` is number of columns having non-numeric values.\n",
    "* $(d_i, e_i)$ (i.e., a pair/tuple entry) represents column name ($d_i$) and number of missing values present in that column ($e_i$). If number of missing values in a column is zero (0), you do not need to list it. Please sort the tuple entries in descending order of $e_i$ values.\n",
    "* `f` and `g` are average and standard deviation of father's education years among the data samples respectively. Please print the way it is shown above. Also, print the percentages in 2 decimal places after the decimal point.\n"
   ]
  },
  {
   "cell_type": "code",
   "execution_count": 5,
   "metadata": {},
   "outputs": [
    {
     "name": "stdout",
     "output_type": "stream",
     "text": [
      "columns with missing values = GAINED    1\n",
      "FEDUC     1\n",
      "WEEKS     1\n",
      "CIGNUM    1\n",
      "HYDRAM    1\n",
      "dtype: int64\n",
      "Total numbe of rows: 101400\n",
      "Total number of columns: 37\n",
      "number of colums having non-numeric values = 2\n",
      "columns with missing values = [('GAINED', 1), ('FEDUC', 1), ('WEEKS', 1), ('CIGNUM', 1), ('HYDRAM', 1)]\n",
      "Father's education summary = 12.93 +/- 2.93\n"
     ]
    }
   ],
   "source": [
    "#@TODO: Your code goes here\n",
    "a = len(full_dataset)\n",
    "b= len(full_dataset.columns)\n",
    "c = sum(full_dataset.dtypes =='object')\n",
    "#colums with missing value\n",
    "missing = full_dataset.isnull().sum()\n",
    "missing_values = full_dataset.isnull().sum()\n",
    "missing_values = missing_values[missing_values > 0].sort_values(ascending=False) \n",
    "\n",
    "print(f\"columns with missing values = {missing_values}\")\n",
    "#fathers education summary\n",
    "f = full_dataset['FEDUC'].mean() #FATHERS EDUCATION\n",
    "g = full_dataset['FEDUC'].std() # standard deviation\n",
    "\n",
    "print(f\"Total numbe of rows: {a}\")\n",
    "print(f\"Total number of columns: {b}\")\n",
    "print(f'number of colums having non-numeric values = {c}')\n",
    "print(f\"columns with missing values = {list(zip(missing_values.index, missing_values.values))}\")\n",
    "print(f\"Father's education summary = {f:.2f} +/- {g:.2f}\")\n"
   ]
  },
  {
   "cell_type": "markdown",
   "metadata": {},
   "source": [
    "## TASK 2: \n",
    "Separate the full_dataset into two parts: X and y, where X denotes the input matrix containing only the input (i.e., independent explanatory) variables, and y denotes the target variable containing only the target values for exactly the same number of samples in the given full_dataset. "
   ]
  },
  {
   "cell_type": "code",
   "execution_count": 8,
   "metadata": {},
   "outputs": [
    {
     "data": {
      "text/html": [
       "<div>\n",
       "<style scoped>\n",
       "    .dataframe tbody tr th:only-of-type {\n",
       "        vertical-align: middle;\n",
       "    }\n",
       "\n",
       "    .dataframe tbody tr th {\n",
       "        vertical-align: top;\n",
       "    }\n",
       "\n",
       "    .dataframe thead th {\n",
       "        text-align: right;\n",
       "    }\n",
       "</style>\n",
       "<table border=\"1\" class=\"dataframe\">\n",
       "  <thead>\n",
       "    <tr style=\"text-align: right;\">\n",
       "      <th></th>\n",
       "      <th>ID</th>\n",
       "      <th>SEX</th>\n",
       "      <th>MARITAL</th>\n",
       "      <th>FAGE</th>\n",
       "      <th>GAINED</th>\n",
       "      <th>VISITS</th>\n",
       "      <th>MAGE</th>\n",
       "      <th>FEDUC</th>\n",
       "      <th>MEDUC</th>\n",
       "      <th>TOTALP</th>\n",
       "      <th>...</th>\n",
       "      <th>HEMOGLOB</th>\n",
       "      <th>HYPERCH</th>\n",
       "      <th>HYPERPR</th>\n",
       "      <th>ECLAMP</th>\n",
       "      <th>CERVIX</th>\n",
       "      <th>PINFANT</th>\n",
       "      <th>PRETERM</th>\n",
       "      <th>RENAL</th>\n",
       "      <th>RHSEN</th>\n",
       "      <th>UTERINE</th>\n",
       "    </tr>\n",
       "  </thead>\n",
       "  <tbody>\n",
       "    <tr>\n",
       "      <th>0</th>\n",
       "      <td>2001</td>\n",
       "      <td>2</td>\n",
       "      <td>1</td>\n",
       "      <td>33</td>\n",
       "      <td>26.0</td>\n",
       "      <td>10</td>\n",
       "      <td>34</td>\n",
       "      <td>12.0</td>\n",
       "      <td>4</td>\n",
       "      <td>2</td>\n",
       "      <td>...</td>\n",
       "      <td>0</td>\n",
       "      <td>0</td>\n",
       "      <td>0</td>\n",
       "      <td>0</td>\n",
       "      <td>0</td>\n",
       "      <td>0</td>\n",
       "      <td>0</td>\n",
       "      <td>0</td>\n",
       "      <td>0</td>\n",
       "      <td>0</td>\n",
       "    </tr>\n",
       "    <tr>\n",
       "      <th>1</th>\n",
       "      <td>2002</td>\n",
       "      <td>2</td>\n",
       "      <td>2</td>\n",
       "      <td>19</td>\n",
       "      <td>40.0</td>\n",
       "      <td>10</td>\n",
       "      <td>18</td>\n",
       "      <td>11.0</td>\n",
       "      <td>12</td>\n",
       "      <td>1</td>\n",
       "      <td>...</td>\n",
       "      <td>0</td>\n",
       "      <td>0</td>\n",
       "      <td>0</td>\n",
       "      <td>0</td>\n",
       "      <td>0</td>\n",
       "      <td>0</td>\n",
       "      <td>0</td>\n",
       "      <td>0</td>\n",
       "      <td>0</td>\n",
       "      <td>0</td>\n",
       "    </tr>\n",
       "    <tr>\n",
       "      <th>2</th>\n",
       "      <td>2003</td>\n",
       "      <td>2</td>\n",
       "      <td>1</td>\n",
       "      <td>33</td>\n",
       "      <td>16.0</td>\n",
       "      <td>14</td>\n",
       "      <td>31</td>\n",
       "      <td>16.0</td>\n",
       "      <td>16</td>\n",
       "      <td>2</td>\n",
       "      <td>...</td>\n",
       "      <td>0</td>\n",
       "      <td>0</td>\n",
       "      <td>0</td>\n",
       "      <td>0</td>\n",
       "      <td>0</td>\n",
       "      <td>0</td>\n",
       "      <td>0</td>\n",
       "      <td>0</td>\n",
       "      <td>0</td>\n",
       "      <td>0</td>\n",
       "    </tr>\n",
       "    <tr>\n",
       "      <th>3</th>\n",
       "      <td>2004</td>\n",
       "      <td>1</td>\n",
       "      <td>1</td>\n",
       "      <td>25</td>\n",
       "      <td>40.0</td>\n",
       "      <td>15</td>\n",
       "      <td>28</td>\n",
       "      <td>12.0</td>\n",
       "      <td>12</td>\n",
       "      <td>3</td>\n",
       "      <td>...</td>\n",
       "      <td>0</td>\n",
       "      <td>0</td>\n",
       "      <td>0</td>\n",
       "      <td>0</td>\n",
       "      <td>0</td>\n",
       "      <td>0</td>\n",
       "      <td>0</td>\n",
       "      <td>0</td>\n",
       "      <td>0</td>\n",
       "      <td>0</td>\n",
       "    </tr>\n",
       "    <tr>\n",
       "      <th>4</th>\n",
       "      <td>2005</td>\n",
       "      <td>1</td>\n",
       "      <td>2</td>\n",
       "      <td>21</td>\n",
       "      <td>60.0</td>\n",
       "      <td>13</td>\n",
       "      <td>20</td>\n",
       "      <td>12.0</td>\n",
       "      <td>14</td>\n",
       "      <td>2</td>\n",
       "      <td>...</td>\n",
       "      <td>0</td>\n",
       "      <td>0</td>\n",
       "      <td>1</td>\n",
       "      <td>0</td>\n",
       "      <td>0</td>\n",
       "      <td>0</td>\n",
       "      <td>0</td>\n",
       "      <td>0</td>\n",
       "      <td>0</td>\n",
       "      <td>0</td>\n",
       "    </tr>\n",
       "    <tr>\n",
       "      <th>...</th>\n",
       "      <td>...</td>\n",
       "      <td>...</td>\n",
       "      <td>...</td>\n",
       "      <td>...</td>\n",
       "      <td>...</td>\n",
       "      <td>...</td>\n",
       "      <td>...</td>\n",
       "      <td>...</td>\n",
       "      <td>...</td>\n",
       "      <td>...</td>\n",
       "      <td>...</td>\n",
       "      <td>...</td>\n",
       "      <td>...</td>\n",
       "      <td>...</td>\n",
       "      <td>...</td>\n",
       "      <td>...</td>\n",
       "      <td>...</td>\n",
       "      <td>...</td>\n",
       "      <td>...</td>\n",
       "      <td>...</td>\n",
       "      <td>...</td>\n",
       "    </tr>\n",
       "    <tr>\n",
       "      <th>101395</th>\n",
       "      <td>103396</td>\n",
       "      <td>1</td>\n",
       "      <td>2</td>\n",
       "      <td>36</td>\n",
       "      <td>0.0</td>\n",
       "      <td>9</td>\n",
       "      <td>34</td>\n",
       "      <td>3.0</td>\n",
       "      <td>12</td>\n",
       "      <td>4</td>\n",
       "      <td>...</td>\n",
       "      <td>0</td>\n",
       "      <td>0</td>\n",
       "      <td>0</td>\n",
       "      <td>0</td>\n",
       "      <td>0</td>\n",
       "      <td>0</td>\n",
       "      <td>0</td>\n",
       "      <td>0</td>\n",
       "      <td>0</td>\n",
       "      <td>0</td>\n",
       "    </tr>\n",
       "    <tr>\n",
       "      <th>101396</th>\n",
       "      <td>103397</td>\n",
       "      <td>2</td>\n",
       "      <td>2</td>\n",
       "      <td>21</td>\n",
       "      <td>39.0</td>\n",
       "      <td>11</td>\n",
       "      <td>19</td>\n",
       "      <td>12.0</td>\n",
       "      <td>9</td>\n",
       "      <td>2</td>\n",
       "      <td>...</td>\n",
       "      <td>0</td>\n",
       "      <td>0</td>\n",
       "      <td>0</td>\n",
       "      <td>0</td>\n",
       "      <td>0</td>\n",
       "      <td>0</td>\n",
       "      <td>0</td>\n",
       "      <td>0</td>\n",
       "      <td>0</td>\n",
       "      <td>0</td>\n",
       "    </tr>\n",
       "    <tr>\n",
       "      <th>101397</th>\n",
       "      <td>103398</td>\n",
       "      <td>2</td>\n",
       "      <td>1</td>\n",
       "      <td>27</td>\n",
       "      <td>37.0</td>\n",
       "      <td>15</td>\n",
       "      <td>22</td>\n",
       "      <td>12.0</td>\n",
       "      <td>12</td>\n",
       "      <td>2</td>\n",
       "      <td>...</td>\n",
       "      <td>0</td>\n",
       "      <td>0</td>\n",
       "      <td>0</td>\n",
       "      <td>0</td>\n",
       "      <td>0</td>\n",
       "      <td>0</td>\n",
       "      <td>0</td>\n",
       "      <td>0</td>\n",
       "      <td>0</td>\n",
       "      <td>0</td>\n",
       "    </tr>\n",
       "    <tr>\n",
       "      <th>101398</th>\n",
       "      <td>103399</td>\n",
       "      <td>1</td>\n",
       "      <td>1</td>\n",
       "      <td>27</td>\n",
       "      <td>26.0</td>\n",
       "      <td>12</td>\n",
       "      <td>24</td>\n",
       "      <td>12.0</td>\n",
       "      <td>14</td>\n",
       "      <td>1</td>\n",
       "      <td>...</td>\n",
       "      <td>0</td>\n",
       "      <td>0</td>\n",
       "      <td>0</td>\n",
       "      <td>0</td>\n",
       "      <td>0</td>\n",
       "      <td>0</td>\n",
       "      <td>0</td>\n",
       "      <td>0</td>\n",
       "      <td>0</td>\n",
       "      <td>0</td>\n",
       "    </tr>\n",
       "    <tr>\n",
       "      <th>101399</th>\n",
       "      <td>103400</td>\n",
       "      <td>1</td>\n",
       "      <td>2</td>\n",
       "      <td>20</td>\n",
       "      <td>31.0</td>\n",
       "      <td>15</td>\n",
       "      <td>17</td>\n",
       "      <td>12.0</td>\n",
       "      <td>11</td>\n",
       "      <td>1</td>\n",
       "      <td>...</td>\n",
       "      <td>0</td>\n",
       "      <td>0</td>\n",
       "      <td>0</td>\n",
       "      <td>0</td>\n",
       "      <td>0</td>\n",
       "      <td>0</td>\n",
       "      <td>0</td>\n",
       "      <td>0</td>\n",
       "      <td>0</td>\n",
       "      <td>0</td>\n",
       "    </tr>\n",
       "  </tbody>\n",
       "</table>\n",
       "<p>101400 rows × 36 columns</p>\n",
       "</div>"
      ],
      "text/plain": [
       "            ID  SEX  MARITAL  FAGE  GAINED  VISITS  MAGE  FEDUC  MEDUC  \\\n",
       "0         2001    2        1    33    26.0      10    34   12.0      4   \n",
       "1         2002    2        2    19    40.0      10    18   11.0     12   \n",
       "2         2003    2        1    33    16.0      14    31   16.0     16   \n",
       "3         2004    1        1    25    40.0      15    28   12.0     12   \n",
       "4         2005    1        2    21    60.0      13    20   12.0     14   \n",
       "...        ...  ...      ...   ...     ...     ...   ...    ...    ...   \n",
       "101395  103396    1        2    36     0.0       9    34    3.0     12   \n",
       "101396  103397    2        2    21    39.0      11    19   12.0      9   \n",
       "101397  103398    2        1    27    37.0      15    22   12.0     12   \n",
       "101398  103399    1        1    27    26.0      12    24   12.0     14   \n",
       "101399  103400    1        2    20    31.0      15    17   12.0     11   \n",
       "\n",
       "        TOTALP  ...  HEMOGLOB  HYPERCH  HYPERPR  ECLAMP  CERVIX  PINFANT  \\\n",
       "0            2  ...         0        0        0       0       0        0   \n",
       "1            1  ...         0        0        0       0       0        0   \n",
       "2            2  ...         0        0        0       0       0        0   \n",
       "3            3  ...         0        0        0       0       0        0   \n",
       "4            2  ...         0        0        1       0       0        0   \n",
       "...        ...  ...       ...      ...      ...     ...     ...      ...   \n",
       "101395       4  ...         0        0        0       0       0        0   \n",
       "101396       2  ...         0        0        0       0       0        0   \n",
       "101397       2  ...         0        0        0       0       0        0   \n",
       "101398       1  ...         0        0        0       0       0        0   \n",
       "101399       1  ...         0        0        0       0       0        0   \n",
       "\n",
       "       PRETERM RENAL  RHSEN  UTERINE  \n",
       "0            0     0      0        0  \n",
       "1            0     0      0        0  \n",
       "2            0     0      0        0  \n",
       "3            0     0      0        0  \n",
       "4            0     0      0        0  \n",
       "...        ...   ...    ...      ...  \n",
       "101395       0     0      0        0  \n",
       "101396       0     0      0        0  \n",
       "101397       0     0      0        0  \n",
       "101398       0     0      0        0  \n",
       "101399       0     0      0        0  \n",
       "\n",
       "[101400 rows x 36 columns]"
      ]
     },
     "execution_count": 8,
     "metadata": {},
     "output_type": "execute_result"
    }
   ],
   "source": [
    "#@TODO: Your code goes here\n",
    "# target feature is baby weight i.e BWEIGHT \n",
    "X = full_dataset.drop('BWEIGHT', axis=1)\n",
    "y = full_dataset['BWEIGHT']\n"
   ]
  },
  {
   "cell_type": "markdown",
   "metadata": {},
   "source": [
    "## TASK 3:\n",
    "* Given X representing the input matrix from the full_dataset, y being the target vector (the rightmost column of the full_dataset), obtained from Task 2: \n",
    "* randomly split the (X,y) dataset into 75% for training and 25% for testing using the library function from the library [sklearn.model_selection](https://scikit-learn.org/stable/modules/generated/sklearn.model_selection.train_test_split.html) . Please pass to the train_test_split function an additional argument random_state=12346.\n",
    "* Store the 4 splits as X_train, X_test, y_train, y_test respectively.\n",
    "* Save the ID column for X_train and X_test into ID_train and ID_test as list variable.\n",
    "* Now, drop the ID columns from both X_train and X_test"
   ]
  },
  {
   "cell_type": "code",
   "execution_count": 9,
   "metadata": {
    "scrolled": true
   },
   "outputs": [],
   "source": [
    "#@TODO: Your code goes here\n",
    "from sklearn.model_selection import train_test_split\n",
    "X_train, X_test, y_train, y_test = train_test_split(X, y, test_size= 0.25, random_state= 12346)\n",
    "#saving and dropping ID from Train dataset\n",
    "ID_train = X_train['ID'].tolist()\n",
    "X_train = X_train.drop('ID', axis=1)\n",
    "\n",
    "#Saving and dropping ID form test data\n",
    "ID_test = X_test['ID'].tolist()\n",
    "X_test = X_test.drop('ID', axis =1)\n"
   ]
  },
  {
   "cell_type": "markdown",
   "metadata": {},
   "source": [
    "## TASK 4: \n",
    "Given the training dataset (X_train, y_train), save as X_train_ohe after replacing all the non-numeric variables (i.e., categorical variables) with numeric encoding. Please consider using the \"One-hot encoding\" scheme i.e., introducing dummy variables. A brief description of the scheme can be found in the [DUMMY-variables.note.txt](DUMMY-variables.note.txt) file\n",
    "* Use the same encoder to perform onehotencoding on the X_test dataset and save the result as X_test_ohe.\n",
    "* Print the column names of X_test_ohe."
   ]
  },
  {
   "cell_type": "code",
   "execution_count": 10,
   "metadata": {
    "scrolled": true
   },
   "outputs": [
    {
     "name": "stdout",
     "output_type": "stream",
     "text": [
      "Index(['SEX', 'MARITAL', 'FAGE', 'GAINED', 'VISITS', 'MAGE', 'FEDUC', 'MEDUC',\n",
      "       'TOTALP', 'BDEAD', 'TERMS', 'LOUTCOME', 'WEEKS', 'RACEMOM', 'RACEDAD',\n",
      "       'CIGNUM', 'DRINKNUM', 'ANEMIA', 'CARDIAC', 'ACLUNG', 'DIABETES',\n",
      "       'HERPES', 'HYDRAM', 'HEMOGLOB', 'HYPERCH', 'HYPERPR', 'ECLAMP',\n",
      "       'CERVIX', 'PINFANT', 'PRETERM', 'RENAL', 'RHSEN', 'UTERINE',\n",
      "       'HISPMOM_C', 'HISPMOM_M', 'HISPMOM_N', 'HISPMOM_O', 'HISPMOM_P',\n",
      "       'HISPMOM_S', 'HISPMOM_U', 'HISPDAD_C', 'HISPDAD_M', 'HISPDAD_N',\n",
      "       'HISPDAD_O', 'HISPDAD_P', 'HISPDAD_S', 'HISPDAD_U'],\n",
      "      dtype='object')\n"
     ]
    },
    {
     "name": "stderr",
     "output_type": "stream",
     "text": [
      "C:\\Users\\parik\\AppData\\Roaming\\Python\\Python311\\site-packages\\sklearn\\preprocessing\\_encoders.py:972: FutureWarning: `sparse` was renamed to `sparse_output` in version 1.2 and will be removed in 1.4. `sparse_output` is ignored unless you leave `sparse` to its default value.\n",
      "  warnings.warn(\n"
     ]
    }
   ],
   "source": [
    "#@TODO: Your code goes here\n",
    "from sklearn.preprocessing import OneHotEncoder\n",
    "ohe = OneHotEncoder(handle_unknown='ignore', sparse=False)\n",
    "ohe.fit(X_train[X_train.columns[X_train.dtypes == 'object']])\n",
    "\n",
    "X_train_ohe = pd.concat([X_train.select_dtypes(exclude=['object']),  \n",
    "                         pd.DataFrame(ohe.transform(X_train[X_train.columns[X_train.dtypes == 'object']]),\n",
    "                                      columns=ohe.get_feature_names_out(),\n",
    "                                      index=X_train.index)],\n",
    "                        axis=1)\n",
    "\n",
    "X_test_ohe = pd.concat([X_test.select_dtypes(exclude=['object']),\n",
    "                        pd.DataFrame(ohe.transform(X_test[X_test.columns[X_test.dtypes == 'object']]),\n",
    "                                     columns=ohe.get_feature_names_out(),\n",
    "                                     index=X_test.index)],\n",
    "                       axis=1)\n",
    "\n",
    "print(X_test_ohe.columns)"
   ]
  },
  {
   "cell_type": "markdown",
   "metadata": {},
   "source": [
    "## TASK 5: \n",
    "* Given the X_train_ohe (Onehot encoded Pandas Dataframe from Task 4), check if there are missing values, and if yes, count how many, and impute the missing values with corresponding mean values. \n",
    "* Finally, print the counting result as a Pandas dataframe named \"missing_counts\" having 2 columns {variable_name,num_of_missing_values).  Please make sure that the result lists all the input variables in the given dataset. \n",
    "* Now, impute the missing values by mean of the respective variable and save the revised dataframe as X_train_ohe_imputed."
   ]
  },
  {
   "cell_type": "code",
   "execution_count": 11,
   "metadata": {},
   "outputs": [
    {
     "name": "stdout",
     "output_type": "stream",
     "text": [
      "   variable_name  num_of_missing_values\n",
      "3         GAINED                      1\n",
      "6          FEDUC                      1\n",
      "22        HYDRAM                      1\n"
     ]
    }
   ],
   "source": [
    "#@TODO: Your code goes here\n",
    "missing_counts = X_train_ohe.isnull().sum().reset_index().rename(columns={'index':'variable_name', 0:'num_of_missing_values'}).query('num_of_missing_values > 0')\n",
    "                               \n",
    "print(missing_counts)\n",
    "\n",
    "X_train_ohe_imputed = X_train_ohe.fillna(X_train_ohe.mean())"
   ]
  },
  {
   "cell_type": "markdown",
   "metadata": {},
   "source": [
    "## TASK 6: \n",
    "* Given a X_train_ohe_imputed (Pandas dataframe from Task 5) where all the categorical variables are already replaced with numeric values, print a list of top 20 highly correlated variables with respect to the target variable, and save the result as a Pandas dataframe named top20_df with 2 columns {variable,corr_score}. \n",
    "* Here, the corr_score between a variable x and the target variable y needs to be computed using the Pearson Correlation Coefficient (PCC). Please note, PCC ranges between -1 to +1. PCC score 0 means no correlation, while value towards +1 and -1 represent positive and negative correlations respectively. For instance, PCC=0.8 and PCC=-0.8 tell similar strength positive and negative correlations between the two subject variables.\n",
    "* Please do not include BWEIGHT in the top20_df list of top 20 correlated variable list."
   ]
  },
  {
   "cell_type": "code",
   "execution_count": 12,
   "metadata": {},
   "outputs": [
    {
     "name": "stdout",
     "output_type": "stream",
     "text": [
      "   variable  corr_score\n",
      "0    GAINED    0.170645\n",
      "1    VISITS    0.129842\n",
      "2   HYPERPR    0.105366\n",
      "3   MARITAL    0.103151\n",
      "4       SEX    0.096068\n",
      "5    CIGNUM    0.091004\n",
      "6   RACEDAD    0.084776\n",
      "7   RACEMOM    0.082949\n",
      "8   PRETERM    0.074347\n",
      "9   PINFANT    0.069708\n",
      "10   CERVIX    0.068525\n",
      "11   ECLAMP    0.066269\n",
      "12     MAGE    0.063988\n",
      "13    MEDUC    0.053989\n",
      "14   HYDRAM    0.051557\n",
      "15    FEDUC    0.050462\n",
      "16  UTERINE    0.048620\n",
      "17     FAGE    0.047886\n",
      "18  HYPERCH    0.042842\n",
      "19    BDEAD    0.041468\n"
     ]
    }
   ],
   "source": [
    "#@TODO: Your code goes here\n",
    "import pandas as pd\n",
    "\n",
    "correlations = X_train_ohe_imputed.corrwith(y_train).abs().sort_values(ascending=False)\n",
    "top20_df = correlations.iloc[1:21].rename_axis('variable').reset_index(name='corr_score')\n",
    "print(top20_df)"
   ]
  },
  {
   "cell_type": "markdown",
   "metadata": {},
   "source": [
    "## TASK 7: \n",
    "Given the X_train_ohe_imputed (as Pandas dataframe from task 5) and and top20_df (as Pandas Dataframe from Task 6) having 2 columns {variable_name,corr_score} similar to the one you computed in Task 6:\n",
    "* Please save as X_train_t20 keeping only the columns listed in the top20_df dataframe.\n",
    "* Repeat the process for X_test_ohe (obtained from task 4), and save it as X_test_t20."
   ]
  },
  {
   "cell_type": "code",
   "execution_count": 13,
   "metadata": {},
   "outputs": [],
   "source": [
    "#@TODO: Your code goes here\n",
    "X_train_t20 = X_train_ohe_imputed[top20_df['variable']]\n",
    "X_test_t20 = X_test_ohe[top20_df['variable']]\n"
   ]
  },
  {
   "cell_type": "markdown",
   "metadata": {},
   "source": [
    "## TASK 8: \n",
    "* Apply min-max scaling on the training dataset (X_train_t20 obtained from Task 7). Save the result as X_train_scaled_mm.\n",
    "* Then scale the test dataset (X_test_t20 obtained from Task 7) based on the metrics you obtain when you scale the training dataset. Save the result as X_test_scaled_mm.\n",
    "* PLEASE DO NOT SCALE y_train and y_test.\n"
   ]
  },
  {
   "cell_type": "code",
   "execution_count": 14,
   "metadata": {},
   "outputs": [],
   "source": [
    "#@TODO: Your code goes here\n",
    "from sklearn.preprocessing import MinMaxScaler\n",
    "\n",
    "scaler = MinMaxScaler()\n",
    "X_train_scaled_mm = pd.DataFrame(scaler.fit_transform(X_train_t20), columns=X_train_t20.columns, index=X_train_t20.index)\n",
    "X_test_scaled_mm = pd.DataFrame(scaler.fit_transform(X_test_t20), columns=X_test_t20.columns, index = X_test_t20.index)"
   ]
  },
  {
   "cell_type": "markdown",
   "metadata": {},
   "source": [
    "## TASK 9: \n",
    "* Apply standardization (i.e., normalization) scaling on the training dataset (X_train_t20 obtained from Task 7). Save the result as X_train_scaled_std.\n",
    "* Then scale the test dataset (X_test_t20 obtained from Task 7) based on the metrics you obtain when you scale the training dataset. Save the result as X_test_scaled_std.\n",
    "* PLEASE DO NOT SCALE y_train and y_test.\n",
    "\n",
    "\n"
   ]
  },
  {
   "cell_type": "code",
   "execution_count": 15,
   "metadata": {},
   "outputs": [],
   "source": [
    "#@TODO: Your code goes here\n",
    "from sklearn.preprocessing import StandardScaler\n",
    "scaler = StandardScaler()\n",
    "X_train_scaled_std = pd.DataFrame(scaler.fit_transform(X_train_t20), columns=X_train_t20.columns, index=X_train_t20.index)\n",
    "\n",
    "X_test_scaled_std = pd.DataFrame( scaler.fit_transform(X_test_t20), columns= X_test_t20.columns, index = X_test_t20.index)"
   ]
  },
  {
   "cell_type": "markdown",
   "metadata": {},
   "source": [
    "## TASK 10: \n",
    "Given the (X_train_scaled_std, y_train) pairs denoting input matrix and output vector respectively: complete the three function definitions and demonstrate the functionalities of each by calling them with appropriate arguments as instructed below:\n",
    "* **linear_regression_closed_form_training** : It fits a linear regression model using the closed-form solution to obtain the coefficients, beta's, as a numpy array of m+1 values (Please recall class lecture), where *m* is the number of variables kept in X_train (the first argument to the function). Please measure the cpu_time needed during the training step. cpu_time is not equal to the wall_time. So, use time.perf_counter() for an accurate measurement. Documentation on this function can be found here: https://docs.python.org/3/library/time.html . Finally, the function returns betas (i.e., the m+1 beta values) and the  cpu_time.\n",
    "* **linear_regression_closed_form_predict**: It takes a list of m+1 beta values (i.e., betas returned from the corresponding training function, and X_test (containing test samples each having *m* input variables). Now, using the provided beta values, predict each of the test samples provided, and let's name your prediction \"y_pred\". Return y_pred from the function.\n",
    "* **RMSE**: It takes two lists: y_test, y_pred, where the first list represents ground truth (i.e., actual) target values for the given samples, and the second list represents a corresponding predicted values for exactly same number of samples in y_test. Compute and return the Root Mean Squared Error (RMSE) of the prediction. \n",
    "\n",
    "* PLEASE DO NOT USE ANY LIBRARY FUNCTION THAT DOES THE LINEAR REGRESSION.\n",
    "* Now, call linear_regression_closed_form_training() function providing X_train_scaled_std, y_train obtained from Task 9, and save the returned results as betas_closed_form,cpu_time_closed_form.\n",
    "* Print betas_closed_form, cpu_time_closed_form\n",
    "* Call linear_regression_closed_form_predict() function providing betas_closed_form,X_test_scaled_std obtained in Task 9. Save the returned result as y_pred.\n",
    "* Call RMSE() function providing y_test and y_pred. Save returned result as rmse_closed_form.\n",
    "* Print rmse_closed_form."
   ]
  },
  {
   "cell_type": "code",
   "execution_count": 16,
   "metadata": {},
   "outputs": [],
   "source": [
    "import numpy as np\n",
    "from numpy.linalg import inv\n",
    "from time import perf_counter\n",
    "def linear_regression_closed_form_training(X_train, y_train):\n",
    "    cpu_time = perf_counter()\n",
    "    betas = np.dot(np.dot(inv(np.dot(X_train.T,X_train)), X_train.T), y_train)\n",
    "    cpu_time = perf_counter() - cpu_time\n",
    "    return betas,cpu_time\n",
    "\n",
    "def linear_regression_closed_form_predict(betas, X_test):\n",
    "    y_pred = np.dot(X_test, betas)\n",
    "    return y_pred\n",
    "\n",
    "def RMSE(y_test, y_pred):\n",
    "    rmse = rmse = np.sqrt(np.mean((y_test - y_pred)**2))\n",
    "    return rmse\n"
   ]
  },
  {
   "cell_type": "code",
   "execution_count": 17,
   "metadata": {},
   "outputs": [
    {
     "name": "stdout",
     "output_type": "stream",
     "text": [
      "[ 0.22040309  0.13514212 -0.15016295 -0.09359412 -0.12250464 -0.10266024\n",
      " -0.05532012 -0.06107147 -0.08126789  0.08445254 -0.0811074  -0.07896492\n",
      "  0.05009343 -0.02616263 -0.0579036  -0.02489718 -0.05647063  0.01199352\n",
      " -0.05574595 -0.04491413] 0.01022460000240244\n",
      "7.3653595617230465\n"
     ]
    }
   ],
   "source": [
    "betas_closed_form, cpu_time_closed_form = linear_regression_closed_form_training(X_train_scaled_std, y_train)\n",
    "\n",
    "print(betas_closed_form, cpu_time_closed_form)\n",
    "\n",
    "y_pred = linear_regression_closed_form_predict(betas_closed_form, X_test_scaled_std)\n",
    "\n",
    "rmse_closed_form = RMSE(y_test, y_pred)  \n",
    "\n",
    "print(rmse_closed_form)"
   ]
  },
  {
   "cell_type": "markdown",
   "metadata": {},
   "source": [
    "## TASK 11: \n",
    "Given the (X_train_scaled_std, y_train) pairs denoting input matrix and output vector respectively: complete the three function definitions and demonstrate the functionalities of each by calling them with appropriate arguments as instructed below:\n",
    "* **linear_regression_gd_batch_training** : It fits a linear regression model using the batch gradient descent algorithm to obtain the coefficients, beta's, as a numpy array of m+1 values, where *m* is the number of variables kept in X_train (the first argument to the function). Please use the alpha (i.e, the learning rate) and nEpoch (number of epochs) parameters in your implementation of the gradient descent algorithm. Please measure the cpu_time needed during the training step. cpu_time is not equal to the wall_time. So, use time.perf_counter() for an accurate measurement. Documentation on this function can be found here: https://docs.python.org/3/library/time.html . Finally, the function returns betas (i.e., the m+1 beta values) and the  cpu_time.\n",
    "* **linear_regression_gd_batch_predict**: It takes a list of m+1 beta values (i.e., betas returned from the corresponding training function, and X_test (containing test samples each having *m* input variables). Now, using the provided beta values, predict each of the test samples provided, and let's name your prediction \"y_pred\". Return y_pred from the function. \n",
    "\n",
    "* PLEASE DO NOT USE ANY LIBRARY FUNCTION THAT DOES THE LINEAR REGRESSION.\n",
    "* Now, call linear_regression_gd_batch_training() function providing X_train_scaled_std, y_train obtained from Task 9, and alpha=0.01,nEpoch=1000, and save the returned results as betas_batch,cpu_time_batch.\n",
    "* Print betas_batch, cpu_time_batch\n",
    "* Call linear_regression_gd_batch_predict() function providing betas_batch,X_test_scaled_std obtained in Task 9. Save the returned result as y_pred.\n",
    "* Call RMSE() function providing y_test and y_pred. Save returned result as rmse_batch.\n",
    "* Print rmse_batch.\n",
    "\n"
   ]
  },
  {
   "cell_type": "code",
   "execution_count": 18,
   "metadata": {},
   "outputs": [],
   "source": [
    "def linear_regression_gd_batch_training(X_train,y_train, alpha, nEpoch):\n",
    "    import random\n",
    "    random.seed(554433)\n",
    "    import numpy as np\n",
    "    from time import perf_counter\n",
    "    betas = np.zeros(X_train.shape[1])\n",
    "    cpu_time = 0\n",
    "    #@TODO: Your code goes here\n",
    "    cpu_time = perf_counter()\n",
    "    for i in range(nEpoch):\n",
    "        h = np.dot(X_train, betas)\n",
    "        loss = h - y_train\n",
    "        grad = np.dot(X_train.T,loss) / len(y_train)\n",
    "        betas -= alpha * grad \n",
    "    cpu_time = perf_counter() - cpu_time\n",
    "    return betas, cpu_time\n",
    "\n",
    "def linear_regression_gd_batch_predict(betas,X_test):\n",
    "    y_pred = np.dot(X_test, betas) \n",
    "    return y_pred\n",
    "\n"
   ]
  },
  {
   "cell_type": "code",
   "execution_count": 19,
   "metadata": {},
   "outputs": [
    {
     "name": "stdout",
     "output_type": "stream",
     "text": [
      "[ 0.22030011  0.13515593 -0.15013116 -0.09364038 -0.12251855 -0.10270041\n",
      " -0.05579694 -0.06066983 -0.08126512  0.0844678  -0.08110423 -0.07896583\n",
      "  0.04821694 -0.025596   -0.05791735 -0.02519357 -0.05646522  0.01370131\n",
      " -0.05572406 -0.04489859] 0.6209948000032455\n",
      "7.3653603604000395\n"
     ]
    }
   ],
   "source": [
    "betas_batch, cpu_time_batch = linear_regression_gd_batch_training(X_train_scaled_std, y_train, alpha=0.01, nEpoch=1000)\n",
    "print(betas_batch, cpu_time_batch)\n",
    "\n",
    "y_pred = linear_regression_gd_batch_predict(betas_batch, X_test_scaled_std)\n",
    "\n",
    "rmse_batch = RMSE(y_test, y_pred)\n",
    "\n",
    "print(rmse_batch)"
   ]
  },
  {
   "cell_type": "markdown",
   "metadata": {},
   "source": [
    "## TASK 12:\n",
    "Given the (X_train_scaled_std, y_train) pairs denoting input matrix and output vector respectively: complete the three function definitions and demonstrate the functionalities of each by calling them with appropriate arguments as instructed below:\n",
    "* **linear_regression_gd_stochastic_training** : It fits a linear regression model using the stochastic gradient descent algorithm to obtain the coefficients, beta's, as a numpy array of m+1 values, where *m* is the number of variables kept in X_train (the first argument to the function). Please use the alpha (i.e, the learning rate), nEpoch (number of epochs), nIteration (number of iterations) parameters in your implementation of the gradient descent algorithm. Please measure the cpu_time needed during the training step. cpu_time is not equal to the wall_time. So, use time.perf_counter() for an accurate measurement. Documentation on this function can be found here: https://docs.python.org/3/library/time.html . Finally, the function returns betas (i.e., the m+1 beta values) and the  cpu_time.\n",
    "* **linear_regression_gd_stochastic_predict**: It takes a list of m+1 beta values (i.e., betas returned from the corresponding training function, and X_test (containing test samples each having *m* input variables). Now, using the provided beta values, predict each of the test samples provided, and let's name your prediction \"y_pred\". Return y_pred from the function. \n",
    "\n",
    "* PLEASE DO NOT USE ANY LIBRARY FUNCTION THAT DOES THE LINEAR REGRESSION.\n",
    "* Now, call linear_regression_gd_stochastic_training() function providing X_train_scaled_std, y_train obtained from Task 9, and alpha=0.01,nEpoch=50, nIteration=100 , and save the returned results as betas_stochastic,cpu_time_stochastic.\n",
    "* Print betas_stochastic, cpu_time_stochastic\n",
    "* Call linear_regression_gd_stochastic_predict() function providing betas_stochastic,X_test_scaled_std obtained in Task 9. Save the returned result as y_pred.\n",
    "* Call RMSE() function providing y_test and y_pred. Save returned result as rmse_stochastic.\n",
    "* Print rmse_stochastic.\n"
   ]
  },
  {
   "cell_type": "code",
   "execution_count": 43,
   "metadata": {},
   "outputs": [],
   "source": [
    "def linear_regression_gd_stochastic_training(X_train,y_train,alpha,nEpoch,nIteration):\n",
    "    import random\n",
    "    from time import perf_counter\n",
    "    import numpy as np\n",
    "    random.seed(554433)\n",
    "    betas = np.zeros(X_train.shape[1])\n",
    "    cpu_time = 0\n",
    "\n",
    "    ## YOUR CODE HERE ##\n",
    "    cpu_time = perf_counter()\n",
    "    for _ in range(nEpoch):\n",
    "        for _ in range(nIteration):\n",
    "            random_index = random.randint(0, len(y_train) - 1)\n",
    "            xi = X_train.iloc[random_index:random_index+1]  \n",
    "            yi = y_train[random_index:random_index+1]\n",
    "            hi = np.dot(xi, betas)\n",
    "            loss = hi - yi\n",
    "            grad = xi.T.dot(loss)\n",
    "            betas -= alpha * grad\n",
    "    \n",
    "    \n",
    "    return betas, cpu_time\n",
    "\n",
    "def linear_regression_gd_stochastic_predict(betas, X_test):\n",
    "\n",
    "    y_pred = []\n",
    "    ## YOUR CODE HERE ###\n",
    "    \n",
    "    \n",
    "    y_pred = np.dot(X_test, betas)\n",
    "    \n",
    "    \n",
    "    return y_pred\n",
    "    \n",
    "\n"
   ]
  },
  {
   "cell_type": "code",
   "execution_count": 44,
   "metadata": {},
   "outputs": [
    {
     "name": "stdout",
     "output_type": "stream",
     "text": [
      "GAINED       1498.536972\n",
      "VISITS        524.230944\n",
      "HYPERPR    -49045.517464\n",
      "MARITAL     11159.840918\n",
      "SEX          8110.281204\n",
      "CIGNUM       5827.472979\n",
      "RACEDAD     11708.663516\n",
      "RACEMOM     12524.061549\n",
      "PRETERM     -5557.024588\n",
      "PINFANT      4363.996782\n",
      "CERVIX    -278193.619234\n",
      "ECLAMP    -171761.471215\n",
      "MAGE         4801.880369\n",
      "MEDUC        2489.721661\n",
      "HYDRAM       4803.363066\n",
      "FEDUC       -1496.457254\n",
      "UTERINE   -182470.659194\n",
      "FAGE        13980.726952\n",
      "HYPERCH     -3151.857601\n",
      "BDEAD       -9569.924586\n",
      "dtype: float64 56653.1538811\n",
      "380147.8157600288\n"
     ]
    }
   ],
   "source": [
    "betas_stochastic, cpu_time_stochastic = linear_regression_gd_stochastic_training(X_train_scaled_std,  \n",
    "                                                                                 y_train, \n",
    "                                                                                 alpha=0.01,\n",
    "                                                                                 nEpoch=50,\n",
    "                                                                                 nIteration=100)\n",
    "\n",
    "print(betas_stochastic, cpu_time_stochastic)\n",
    "\n",
    "y_pred = linear_regression_gd_stochastic_predict(betas_stochastic, X_test_scaled_std)\n",
    "\n",
    "rmse_stochastic = RMSE(y_test, y_pred)\n",
    "\n",
    "print(rmse_stochastic)"
   ]
  },
  {
   "cell_type": "markdown",
   "metadata": {},
   "source": [
    "## Task 13: \n",
    "Given the (X_train_scaled_std, y_train) pairs denoting input matrix and output vector respectively: complete the three function definitions and demonstrate the functionalities of each by calling them with appropriate arguments as instructed below:\n",
    "* **linear_regression_gd_minibatch_training** : It fits a linear regression model using the minibatch gradient descent algorithm to obtain the coefficients, beta's, as a numpy array of m+1 values, where *m* is the number of variables kept in X_train (the first argument to the function). Please use the alpha (i.e, the learning rate), nEpoch (number of epochs), nIteration (number of iterations), and batch_size parameters in your implementation of the gradient descent algorithm. Please measure the cpu_time needed during the training step. cpu_time is not equal to the wall_time. So, use time.perf_counter() for an accurate measurement. Documentation on this function can be found here: https://docs.python.org/3/library/time.html . Finally, the function returns betas (i.e., the m+1 beta values) and the  cpu_time.\n",
    "* **linear_regression_gd_minibatch_predict**: It takes a list of m+1 beta values (i.e., betas returned from the corresponding training function, and X_test (containing test samples each having *m* input variables). Now, using the provided beta values, predict each of the test samples provided, and let's name your prediction \"y_pred\". Return y_pred from the function. \n",
    "\n",
    "* PLEASE DO NOT USE ANY LIBRARY FUNCTION THAT DOES THE LINEAR REGRESSION.\n",
    "* Now, call linear_regression_gd_minibatch_training() function providing X_train_scaled_std, y_train obtained from Task 9, and alpha=0.001,nEpoch=50, nIteration=1000,batch_size=32, and save the returned results as betas_minibatch,cpu_time_minibatch.\n",
    "* Print betas_minibatch, cpu_time_minibatch\n",
    "* Call linear_regression_gd_minibatch_predict() function providing betas_minibatch,X_test_scaled_std obtained in Task 9. Save the returned result as y_pred.\n",
    "* Call RMSE() function providing y_test and y_pred. Save returned result as rmse_minibatch.\n",
    "* Print rmse_minibatch."
   ]
  },
  {
   "cell_type": "code",
   "execution_count": 39,
   "metadata": {},
   "outputs": [],
   "source": [
    "def linear_regression_gd_minibatch_training(X_train,y_train,alpha,nEpoch, nIteration, batch_size):\n",
    "    import random\n",
    "    from time import perf_counter\n",
    "    import numpy as np\n",
    "    random.seed(554433)\n",
    "\n",
    "    cpu_time = 0\n",
    "\n",
    "    ## YOUR CODE HERE ###\n",
    "    m = X_train.shape[1]  # Number of features\n",
    "    X_train = np.hstack((np.ones((X_train.shape[0], 1)), X_train))  # Add bias term\n",
    "\n",
    "    betas = np.zeros(m+1)\n",
    "    cpu_time = 0\n",
    "\n",
    "    for epoch in range(nEpoch):\n",
    "        start_time = perf_counter()\n",
    "        for _ in range(nIteration):\n",
    "            batch_indices = random.sample(range(X_train.shape[0]), batch_size)\n",
    "            X_batch = X_train[batch_indices]\n",
    "            y_batch = y_train[batch_indices]\n",
    "            y_pred = np.dot(X_batch, betas)\n",
    "            error = y_pred - y_batch\n",
    "            gradient = np.dot(X_batch.T, error) / batch_size\n",
    "            betas -= alpha * gradient\n",
    "        end_time = perf_counter()\n",
    "        cpu_time += end_time - start_time\n",
    "\n",
    "    return betas, cpu_time\n",
    "\n",
    "def linear_regression_gd_minibatch_predict(betas,X_test):\n",
    "    y_pred = []\n",
    "    ## YOUR CODE HERE ###\n",
    "    X_test = np.hstack((np.ones((X_test.shape[0], 1)), X_test))  # Add bias term\n",
    "    y_pred = np.dot(X_test, betas)\n",
    "    \n",
    "    return y_pred\n",
    "\n",
    "    \n",
    "\n",
    "\n",
    "\n"
   ]
  },
  {
   "cell_type": "code",
   "execution_count": 41,
   "metadata": {},
   "outputs": [
    {
     "name": "stdout",
     "output_type": "stream",
     "text": [
      "[ 7.26387296  0.22586499  0.14201521 -0.14766203 -0.08241426 -0.13074795\n",
      " -0.09173156 -0.05446319 -0.06737384 -0.07975356  0.09378949 -0.09693898\n",
      " -0.08251744  0.04658246 -0.0206141  -0.05179957 -0.01906277 -0.05550917\n",
      "  0.01453974 -0.04516726 -0.0543272 ] 12.288957900011155\n",
      "1.2608954272966553\n"
     ]
    }
   ],
   "source": [
    "X_train_scaled_std.reset_index(drop=True, inplace=True) # to ensure X_train and y_train have matching indices\n",
    "y_train.reset_index(drop=True, inplace=True) # to ensure X_train and y_train have matching indices\n",
    "betas_minibatch, cpu_time_minibatch = linear_regression_gd_minibatch_training(X_train_scaled_std, \n",
    "                                                                              y_train,\n",
    "                                                                              alpha=0.001,\n",
    "                                                                              nEpoch=50,\n",
    "                                                                              nIteration=1000,\n",
    "                                                                              batch_size=32)\n",
    "\n",
    "print(betas_minibatch, cpu_time_minibatch)\n",
    "\n",
    "y_pred = linear_regression_gd_minibatch_predict(betas_minibatch, X_test_scaled_std)\n",
    "\n",
    "rmse_minibatch = RMSE(y_test, y_pred)\n",
    "\n",
    "print(rmse_minibatch)"
   ]
  },
  {
   "cell_type": "markdown",
   "metadata": {},
   "source": [
    "## Task 14:\n",
    "Given the 4 sets of results from the 4 experiments (from Tasks 10, 11, 12, 13) with closed form solution, batch gradient descent, stochastic gradient descent and mini-batch gradient descent, print a string from the set {\"closed-form\", \"batch-GD\", \"stochastic-GD\", \"minibatch-GD\"} that demonstrated the best predictive performance in terms of RMSE.\n"
   ]
  },
  {
   "cell_type": "code",
   "execution_count": 45,
   "metadata": {},
   "outputs": [
    {
     "name": "stdout",
     "output_type": "stream",
     "text": [
      "The method with the best predictive performance in terms of RMSE is: minibatch-GD\n"
     ]
    }
   ],
   "source": [
    "## YOUR CODE HERE ###\n",
    "# Create a dictionary to store the RMSE values\n",
    "rmse_values = {\n",
    "    \"closed-form\": rmse_closed_form,\n",
    "    \"batch-GD\": rmse_batch,\n",
    "    \"stochastic-GD\": rmse_stochastic,\n",
    "    \"minibatch-GD\": rmse_minibatch\n",
    "}\n",
    "\n",
    "# Find the method with the lowest RMSE\n",
    "best_method = min(rmse_values, key=rmse_values.get)\n",
    "\n",
    "print(f\"The method with the best predictive performance in terms of RMSE is: {best_method}\")\n",
    "\n"
   ]
  },
  {
   "cell_type": "markdown",
   "metadata": {},
   "source": [
    "## Task 15: \n",
    "Given the 4 sets of results from the 4 experiments (from Tasks 10, 11, 12, 13) with closed form solution, batch gradient descent, stochastic gradient descent and mini-batch gradient descent, print a string from the set {\"closed-form\", \"batch-GD\", \"stochastic-GD\", \"minibatch-GD\"} that demonstrated the least training cpu time.\n"
   ]
  },
  {
   "cell_type": "code",
   "execution_count": 46,
   "metadata": {},
   "outputs": [
    {
     "name": "stdout",
     "output_type": "stream",
     "text": [
      " The method with best performasnce in terms of cpu time is: closed-form\n"
     ]
    }
   ],
   "source": [
    "## YOUR CODE HERE ###\n",
    "cpu_values = {\n",
    "    \"closed-form\": cpu_time_closed_form,\n",
    "    \"batch-GD\": cpu_time_batch,\n",
    "    \"stochastic-GD\": cpu_time_stochastic,\n",
    "    \"mini-batch-GD\": cpu_time_minibatch\n",
    "}\n",
    "# find the method with the lowest cpu time\n",
    "best = min(cpu_values, key=cpu_values.get)\n",
    "print(f\" The method with best performasnce in terms of cpu time is: {best}\")"
   ]
  },
  {
   "cell_type": "markdown",
   "metadata": {},
   "source": [
    "## Task 16: \n",
    "Given the (X_train_scaled_std, y_train) pairs denoting input matrix and output vector respectively, \n",
    "* call your implementation of Task 12: stochastic gradient descent based linear regression for each of these learning rates: {0.0001, 0.001, 0.05, 0.01, 0.1, 1.0}\n",
    "    * Please use the nIteration (number of iterations), nEpoch (number of epoch) parameters in your implementation of the gradient descent algorithm.\n",
    "\n",
    "* For each of the linear regression model, using the computed beta values, predict the test samples provided in the \"X_test_scaled_std\" argument, and let's name your prediction \"y_pred\".\n",
    "* Compute Root Mean Squared Error (RMSE) of your prediction using the RMSE() function you defined in Task 10.\n",
    "* Finally, print the learning rate that shows the best test performance, and also print as a pandas dataframe named summary with 2 columns: {learning_rate, test_RMSE} containing RMSE's of the 6 linear regression models. Also, print the best performing learning rate.\n",
    "* PLEASE DO NOT USE ANY LIBRARY FUNCTION THAT DOES THE LINEAR REGRESSION.\n"
   ]
  },
  {
   "cell_type": "code",
   "execution_count": 49,
   "metadata": {},
   "outputs": [
    {
     "name": "stdout",
     "output_type": "stream",
     "text": [
      "   learning_rate     test_RMSE\n",
      "0         0.0001  7.369627e+00\n",
      "1         0.0010  7.413264e+00\n",
      "2         0.0500  5.185449e+48\n",
      "3         0.0100  3.801478e+05\n",
      "4         1.0000           NaN\n",
      "0\n"
     ]
    }
   ],
   "source": [
    "## YOUR CODE HERE ###\n",
    "\n",
    "summary = []\n",
    "\n",
    "\n",
    "for lr in[0.0001, 0.001, 0.05, 0.01,1.0]:\n",
    "     betasl, cpu_time = linear_regression_gd_stochastic_training(X_train_scaled_std, \n",
    "                                                    y_train,\n",
    "                                                    alpha=lr,\n",
    "                                                    nEpoch=50,\n",
    "                                                    nIteration=100)\n",
    "     y_pred = linear_regression_gd_stochastic_predict(betasl, X_test_scaled_std)  \n",
    "     rmse = RMSE(y_test, y_pred)\n",
    "    \n",
    "     summary.append({'learning_rate': lr, 'test_RMSE': rmse})\n",
    "\n",
    "summary = pd.DataFrame(summary)\n",
    "print(summary)\n",
    "\n",
    "print(summary['test_RMSE'].idxmin())   \n",
    "    \n",
    "\n",
    "\n",
    "\n"
   ]
  },
  {
   "cell_type": "markdown",
   "metadata": {},
   "source": [
    "## Task 17:\n",
    "* Utilizing the best trained linear regression model (so far), predict the target for each of the samples in the `judge-without-labels.csv` dataset.\n",
    "    * I believe you will not forget to do the following before calling the prediction algorithm:\n",
    "        - Save the ID values of the judge dataset into ID_judge and drop it from the judge dataframe.\n",
    "        - Perform onehot encoding using the same encoder you used to encode X_test (Task 4). \n",
    "        - keep only the same top 20 variables as you did in Task 7. \n",
    "        - scale the input variables based on the same metrics you used to scale the training dataset (Task 9). \n",
    "    * Now, call the prediction function of that model to obtain y_pred.\n",
    "    * Prepare and print as a pandas dataframe having columns: {ID, BWEIGHT}, where ID will the ID of the judge sample, and BWEIGHT is the corresponding y_pred value from your model prediction.\n",
    "* PLEASE DO NOT USE ANY LIBRARY FUNCTION THAT DOES THE LINEAR REGRESSION.\n"
   ]
  },
  {
   "cell_type": "code",
   "execution_count": 125,
   "metadata": {},
   "outputs": [
    {
     "name": "stdout",
     "output_type": "stream",
     "text": [
      "        ID   Bweight\n",
      "0        1  8.142176\n",
      "1        2  7.099371\n",
      "2        3  6.423860\n",
      "3        4  7.105191\n",
      "4        5  6.885974\n",
      "...    ...       ...\n",
      "1995  1996  6.906629\n",
      "1996  1997  7.258986\n",
      "1997  1998  7.679001\n",
      "1998  1999  7.556118\n",
      "1999  2000  7.113012\n",
      "\n",
      "[2000 rows x 2 columns]\n"
     ]
    },
    {
     "name": "stderr",
     "output_type": "stream",
     "text": [
      "C:\\Users\\parik\\AppData\\Roaming\\Python\\Python311\\site-packages\\numpy\\lib\\function_base.py:2854: RuntimeWarning: invalid value encountered in divide\n",
      "  c /= stddev[:, None]\n",
      "C:\\Users\\parik\\AppData\\Roaming\\Python\\Python311\\site-packages\\numpy\\lib\\function_base.py:2855: RuntimeWarning: invalid value encountered in divide\n",
      "  c /= stddev[None, :]\n"
     ]
    }
   ],
   "source": [
    "## YOUR CODE HERE ###\n",
    "from sklearn.preprocessing import OneHotEncoder, StandardScaler\n",
    "ID_judge = judge_dataset['ID'].tolist()\n",
    "ID_judge_series = pd.Series(ID_judge)\n",
    "judge_dataset = judge_dataset.drop('ID', axis=1)\n",
    "# Applying one ht encoding oin judge dataset\n",
    "judge_dataset_ohe = pd.concat([judge_dataset.select_dtypes(exclude=['object']),\n",
    "                        pd.DataFrame(ohe.transform(X_test[X_test.columns[X_test.dtypes == 'object']]),\n",
    "                                     columns=ohe.get_feature_names_out(),\n",
    "                                     index=X_test.index)],\n",
    "                       axis=1)\n",
    "\n",
    "\n",
    "correlation = judge_dataset_ohe.corrwith(ID_judge_series).abs().sort_values(ascending=False)\n",
    "top20 = correlations.iloc[1:21].rename_axis('variable').reset_index(name='corr_score')\n",
    "#print(top20)\n",
    "judge_dataset_t20 = judge_dataset_ohe[top20['variable']]\n",
    "\n",
    "#scaling the input variables\n",
    "scaler = StandardScaler()\n",
    "judge_dataset_scaled_std = pd.DataFrame( scaler.fit_transform(judge_dataset_t20), columns= judge_dataset_t20.columns, index = judge_dataset_t20.index)\n",
    "# since minibatch-gd is the best trained model int rerns of RMSE, i am calling it \n",
    "\n",
    "judge_pred = linear_regression_gd_minibatch_predict(betas_minibatch, judge_dataset_scaled_std)\n",
    "\n",
    "new = np.resize(judge_pred, (2000))\n",
    "results = pd.DataFrame({'ID': ID_judge ,'Bweight': new})\n",
    "print(results)\n",
    "\n"
   ]
  },
  {
   "cell_type": "markdown",
   "metadata": {},
   "source": [
    "## Task 18:\n",
    "* Bring your best model and submit your solution as a csv file at [http://10.18.108.99/fa23-ml-check-PA1-judge-pred.php](http://10.18.108.99/fa23-ml-check-PA1-judge-pred.php). Please note this is hosted within the campus network. So, if you want to access it from outside campus, you need to first establish a VPN connection.\n",
    "  * Make sure your csv file should have the following format and have exactly the same number of samples as in the provided `judge-without-labels.csv` file:\n",
    "\n",
    "```\n",
    "ID,BWEIGHT\n",
    "1,10.1875\n",
    "2,6.625\n",
    "3,7.0625\n",
    "...\n",
    "...\n",
    "``` \n",
    "\n",
    "\n",
    "* Can you do better?\n",
    "  * Demonstrate your effort by pushing yourself to improve your own score or beat other submissions (if any available) until the deadline and document your scores and list what changes you made in your submitted solution.\n",
    "\n",
    "* Please report below all your RMSLE scores for each of your submission (one per line). You may enumerate your submissions by 1, 2, 3, ...\n"
   ]
  },
  {
   "cell_type": "code",
   "execution_count": null,
   "metadata": {},
   "outputs": [],
   "source": [
    "## YOUR CODE HERE ###\n",
    "\n",
    "\n",
    "\n"
   ]
  }
 ],
 "metadata": {
  "kernelspec": {
   "display_name": "Python 3 (ipykernel)",
   "language": "python",
   "name": "python3"
  },
  "language_info": {
   "codemirror_mode": {
    "name": "ipython",
    "version": 3
   },
   "file_extension": ".py",
   "mimetype": "text/x-python",
   "name": "python",
   "nbconvert_exporter": "python",
   "pygments_lexer": "ipython3",
   "version": "3.11.4"
  },
  "varInspector": {
   "cols": {
    "lenName": 16,
    "lenType": 16,
    "lenVar": 40
   },
   "kernels_config": {
    "python": {
     "delete_cmd_postfix": "",
     "delete_cmd_prefix": "del ",
     "library": "var_list.py",
     "varRefreshCmd": "print(var_dic_list())"
    },
    "r": {
     "delete_cmd_postfix": ") ",
     "delete_cmd_prefix": "rm(",
     "library": "var_list.r",
     "varRefreshCmd": "cat(var_dic_list()) "
    }
   },
   "types_to_exclude": [
    "module",
    "function",
    "builtin_function_or_method",
    "instance",
    "_Feature"
   ],
   "window_display": false
  }
 },
 "nbformat": 4,
 "nbformat_minor": 4
}
